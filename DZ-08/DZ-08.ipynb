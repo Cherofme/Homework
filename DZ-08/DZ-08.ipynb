{
 "cells": [
  {
   "cell_type": "code",
   "execution_count": null,
   "metadata": {},
   "outputs": [],
   "source": [
    "def summa(dodanok_1, dodanok_2):\n",
    "    return  dodanok_1 + dodanok_2\n",
    "def subtraction(a, b):\n",
    "    return a - b\n",
    "def mult(a, b):\n",
    "    return a * b\n",
    "def division(a, b):\n",
    "    if b == 0:\n",
    "        print('На нуль ділити не можна')\n",
    "    else:\n",
    "        return a / b\n",
    "def elevation(a, b):\n",
    "    return a ** b\n",
    "def calculate(operand_1, operand_2, operation):\n",
    "    if operation == '+':\n",
    "        result = summa(operand_1, operand_2)\n",
    "    elif operation == '-':\n",
    "        result = subtraction(operand_1, operand_2)\n",
    "    elif operation == '*':\n",
    "        result = mult(operand_1, operand_2)\n",
    "    elif  operation == '/':\n",
    "        result = division(operand_1, operand_2)\n",
    "    elif operation == '**':\n",
    "        result = elevation(operand_1, operand_2)\n",
    "    \n",
    "    return result\n",
    "def chek_operation(operation):\n",
    "    return operation in ['+', '-', '*', '/', '**']\n",
    "\n",
    "result = None \n",
    "operand_1 = int(input('Введите число A'))\n",
    "operand_2 = int(input('Введите число B'))\n",
    "user_operation = input('Enter operation: | + | - | * | / | ** |')\n",
    "\n",
    "if chek_operation(user_operation):\n",
    "    result = calculate(operand_1, operand_2, user_operation)\n",
    "    print(operand_1, user_operation, operand_2, '=', result)\n",
    "else:\n",
    "    print('Operation not supported:', user_operation)"
   ]
  },
  {
   "cell_type": "code",
   "execution_count": null,
   "metadata": {},
   "outputs": [],
   "source": [
    "last_name_q = input(' enter your last name')\n",
    "client_count = input('what table do you want to order?(2 or 4)') \n",
    "def res_table(last_name = last_name_q , client_number = client_count):\n",
    "    if client_count == '2' or client_count == '4' :\n",
    "        message = print('Client {} ordered table for {} people.'.format(last_name,client_number))\n",
    "        print(message)\n",
    "    else:\n",
    "        print('error')\n",
    "    \n",
    "res_table()"
   ]
  },
  {
   "cell_type": "code",
   "execution_count": 6,
   "metadata": {},
   "outputs": [
    {
     "name": "stdout",
     "output_type": "stream",
     "text": [
      "Adress of department №1 : dict_items([(1, 'вулиця Фортечна, 2в, Запоріжжя, Запорізька область, 69002'), (7, 'Космічна вулиця, 119, Запоріжжя, Запорізька область, 69050'), (22, 'вул. Чарівна, 119 прим. 146, Запоріжжя, Запорізька область, 69071'), (14, 'проспект Соборний, 141, Запоріжжя, Запорізька область, 69063'), (56, 'маг. \"VARUS, вулиця Яценка, 2, Запоріжжя, Запорізька область, 69005')])\n"
     ]
    }
   ],
   "source": [
    "list_of_department = {\n",
    "    1:'вулиця Фортечна, 2в, Запоріжжя, Запорізька область, 69002',\n",
    "    7:'Космічна вулиця, 119, Запоріжжя, Запорізька область, 69050',\n",
    "    22:'вул. Чарівна, 119 прим. 146, Запоріжжя, Запорізька область, 69071',\n",
    "    14:'проспект Соборний, 141, Запоріжжя, Запорізька область, 69063',\n",
    "    56:'маг. \"VARUS, вулиця Яценка, 2, Запоріжжя, Запорізька область, 69005'\n",
    "}\n",
    "number_of_search_department = input('Enter number_of_search_department ')\n",
    "def search_of_department(number_of_department):\n",
    "    number_of_department ==  list_of_department.keys()\n",
    "    if number_of_department == number_of_search_department:\n",
    "        print('Adress of department №{} : {}'.format(number_of_search_department, list_of_department.values())) \n",
    "    else:\n",
    "        print('Such a department does not exist.')\n",
    "search_of_department(number_of_search_department)"
   ]
  },
  {
   "cell_type": "code",
   "execution_count": 12,
   "metadata": {},
   "outputs": [
    {
     "name": "stdout",
     "output_type": "stream",
     "text": [
      "Космічна вулиця, 119, Запоріжжя, Запорізька область, 69050\n"
     ]
    }
   ],
   "source": [
    "list_of_department = {\n",
    "    1:'вулиця Фортечна, 2в, Запоріжжя, Запорізька область, 69002',\n",
    "    7:'Космічна вулиця, 119, Запоріжжя, Запорізька область, 69050',\n",
    "    22:'вул. Чарівна, 119 прим. 146, Запоріжжя, Запорізька область, 69071',\n",
    "    14:'проспект Соборний, 141, Запоріжжя, Запорізька область, 69063',\n",
    "    56:'маг. \"VARUS, вулиця Яценка, 2, Запоріжжя, Запорізька область, 69005'\n",
    "}\n",
    "number_of_search_department = int(input('enter number_of_search_adepartment'))\n",
    "def search_of_department():\n",
    "    if list_of_department.get(number_of_search_department):\n",
    "        print(list_of_department[number_of_search_department])\n",
    "    else:\n",
    "        print('Such a department does not exist.')\n",
    "search_of_department()"
   ]
  }
 ],
 "metadata": {
  "kernelspec": {
   "display_name": "Python 3.10.5 64-bit",
   "language": "python",
   "name": "python3"
  },
  "language_info": {
   "codemirror_mode": {
    "name": "ipython",
    "version": 3
   },
   "file_extension": ".py",
   "mimetype": "text/x-python",
   "name": "python",
   "nbconvert_exporter": "python",
   "pygments_lexer": "ipython3",
   "version": "3.10.5"
  },
  "orig_nbformat": 4,
  "vscode": {
   "interpreter": {
    "hash": "ccfea65839ea7b4cb7611917847ae955f8a5d3f7496a05c88f3bf628abe673bf"
   }
  }
 },
 "nbformat": 4,
 "nbformat_minor": 2
}
