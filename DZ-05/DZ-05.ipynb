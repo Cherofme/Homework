{
 "cells": [
  {
   "cell_type": "code",
   "execution_count": null,
   "metadata": {},
   "outputs": [],
   "source": [
    "last_name = input('Введіть своє прізвище')\n",
    "repeat = ''\n",
    "count = 0\n",
    "for letter in last_name:\n",
    "    if letter == letter:\n",
    "        repeat = letter\n",
    "print(repeat)"
   ]
  },
  {
   "cell_type": "code",
   "execution_count": 1,
   "metadata": {},
   "outputs": [
    {
     "name": "stdout",
     "output_type": "stream",
     "text": [
      "KalushUA\n"
     ]
    }
   ],
   "source": [
    "string = 'Kalush123UA'\n",
    "result = ''\n",
    "for char in string: \n",
    "    if char.isdigit():\n",
    "        continue\n",
    "    else:\n",
    "        result +=char    \n",
    "print(result)"
   ]
  },
  {
   "cell_type": "code",
   "execution_count": null,
   "metadata": {},
   "outputs": [],
   "source": [
    "phones = [\n",
    "    ['+380679999999'], \n",
    "    ['+380669999999'],\n",
    "    ['+380668888888'], \n",
    "    ['+380507777777'],\n",
    "    ['+380681151010']\n",
    "]\n",
    "length = 13\n",
    "if len(phones) != length:\n",
    "    print(phones)\n",
    "elif phones[0:2] != '+38':\n",
    "    print(phones)\n",
    "elif phones[3:5]  != ['067', '097', '068', '044']:\n",
    "    print(phones)\n",
    "else:\n",
    "    print()"
   ]
  }
 ],
 "metadata": {
  "kernelspec": {
   "display_name": "Python 3.10.5 64-bit",
   "language": "python",
   "name": "python3"
  },
  "language_info": {
   "codemirror_mode": {
    "name": "ipython",
    "version": 3
   },
   "file_extension": ".py",
   "mimetype": "text/x-python",
   "name": "python",
   "nbconvert_exporter": "python",
   "pygments_lexer": "ipython3",
   "version": "3.10.5"
  },
  "orig_nbformat": 4,
  "vscode": {
   "interpreter": {
    "hash": "ccfea65839ea7b4cb7611917847ae955f8a5d3f7496a05c88f3bf628abe673bf"
   }
  }
 },
 "nbformat": 4,
 "nbformat_minor": 2
}
