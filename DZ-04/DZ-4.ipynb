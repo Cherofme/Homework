{
 "cells": [
  {
   "cell_type": "code",
   "execution_count": null,
   "metadata": {},
   "outputs": [],
   "source": [
    "continents_west = ['North America', 'South America', 'Antarctica']\n",
    "continents_north = ['Africa', 'Australia', 'Asia', 'Europe']\n",
    "continents_west.extend(continents_north)\n",
    "continents_west.sort()\n",
    "print(continents_west)"
   ]
  },
  {
   "cell_type": "code",
   "execution_count": 36,
   "metadata": {},
   "outputs": [
    {
     "name": "stdout",
     "output_type": "stream",
     "text": [
      "[['notebook', 'dell', 28000], ['notebook', 'hp', 35000]] Всі товари данного типу\n"
     ]
    }
   ],
   "source": [
    "gadgets = [\n",
    "    ['phone', 'samsung', 7800],\n",
    "    ['notebook', 'dell', 28000],\n",
    "    ['notebook', 'hp', 35000],\n",
    "    ['phone', 'iphone', 27800],\n",
    "]\n",
    "type = input(\"Введіть потрібний тип гаджета\")\n",
    "gadgets_1 = 'phone'\n",
    "phone = [\n",
    "['phone', 'samsung', 7800],\n",
    "['phone', 'iphone', 27800],\n",
    "]\n",
    "gadgets_2 = 'notebook'\n",
    "notebook = [\n",
    "    ['notebook', 'dell', 28000],\n",
    "    ['notebook', 'hp', 35000],\n",
    "]\n",
    "if type == gadgets_1:\n",
    "    print(phone,\"Всі товари данного типу\")\n",
    "elif type == gadgets_2:\n",
    "   print(notebook,\"Всі товари данного типу\")\n",
    "else:\n",
    "    print(gadgets,\"Введіть коректний тип\")\n"
   ]
  }
 ],
 "metadata": {
  "kernelspec": {
   "display_name": "Python 3.10.5 64-bit",
   "language": "python",
   "name": "python3"
  },
  "language_info": {
   "codemirror_mode": {
    "name": "ipython",
    "version": 3
   },
   "file_extension": ".py",
   "mimetype": "text/x-python",
   "name": "python",
   "nbconvert_exporter": "python",
   "pygments_lexer": "ipython3",
   "version": "3.10.5"
  },
  "orig_nbformat": 4,
  "vscode": {
   "interpreter": {
    "hash": "ccfea65839ea7b4cb7611917847ae955f8a5d3f7496a05c88f3bf628abe673bf"
   }
  }
 },
 "nbformat": 4,
 "nbformat_minor": 2
}
