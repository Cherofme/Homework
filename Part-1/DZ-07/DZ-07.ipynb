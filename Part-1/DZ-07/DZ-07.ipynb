{
 "cells": [
  {
   "cell_type": "code",
   "execution_count": 21,
   "metadata": {},
   "outputs": [
    {
     "name": "stdout",
     "output_type": "stream",
     "text": [
      "{'Dmytro': 4, 'Andrew': 5, 'Denis': 5}\n"
     ]
    }
   ],
   "source": [
    "students = {\n",
    "    'Igor':2,\n",
    "    'Sasha':3,\n",
    "    'Dmytro':4,\n",
    "    'Andrew':5,\n",
    "    'Denis':5,\n",
    "    'Julia':2,\n",
    "}\n",
    "\n",
    "bestStudents={}\n",
    "\n",
    "for name in students:\n",
    "    if(students[name] >3 ):\n",
    "        bestStudents.update({name: students[name]})\n",
    "\n",
    "print(bestStudents)"
   ]
  },
  {
   "cell_type": "code",
   "execution_count": 30,
   "metadata": {},
   "outputs": [
    {
     "name": "stdout",
     "output_type": "stream",
     "text": [
      "temperature at  Dnipro =  24\n",
      "The coldest Temp is 18\n",
      "Average temp is 23\n"
     ]
    }
   ],
   "source": [
    "weather = {\n",
    "    'Kyiv': 26,\n",
    "    'Kharkiv': 18,\n",
    "    'Lviv': 20,\n",
    "    'Odesa':28,\n",
    "    'Dnipro':24,\n",
    "    'Zaporizhzhia':25\n",
    "}\n",
    "question = input('Type name of city, like:  Kyiv, Kharkiv, Lviv, Odesa, Dnipro or Zaporizhzhia')\n",
    "\n",
    "suma = 0\n",
    "tempList = []\n",
    "\n",
    "for city in weather:\n",
    "    suma += weather[city]\n",
    "\n",
    "    tempList.append(weather[city])    \n",
    "\n",
    "tempList.sort()\n",
    "\n",
    "print('temperature at ', question + ' = ', weather[question] )\n",
    "\n",
    "print('The coldest Temp is', *tempList[:1])\n",
    "\n",
    "print('Average temp is', suma//len(weather))"
   ]
  }
 ],
 "metadata": {
  "kernelspec": {
   "display_name": "Python 3.10.5 64-bit",
   "language": "python",
   "name": "python3"
  },
  "language_info": {
   "codemirror_mode": {
    "name": "ipython",
    "version": 3
   },
   "file_extension": ".py",
   "mimetype": "text/x-python",
   "name": "python",
   "nbconvert_exporter": "python",
   "pygments_lexer": "ipython3",
   "version": "3.10.6"
  },
  "orig_nbformat": 4,
  "vscode": {
   "interpreter": {
    "hash": "ccfea65839ea7b4cb7611917847ae955f8a5d3f7496a05c88f3bf628abe673bf"
   }
  }
 },
 "nbformat": 4,
 "nbformat_minor": 2
}
