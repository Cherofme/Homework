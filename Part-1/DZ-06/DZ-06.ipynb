{
 "cells": [
  {
   "cell_type": "code",
   "execution_count": null,
   "metadata": {},
   "outputs": [],
   "source": [
    "sent = input()\n",
    "delimetr = ' '\n",
    "fix = ' .'\n",
    "sentence = sent + fix\n",
    "is_last = False \n",
    "space_position_prev = 0\n",
    "word_max = ''\n",
    "while not is_last:\n",
    "    space_position_current = sentence.find(' ', space_position_prev)\n",
    "    if space_position_current == -1:\n",
    "        print('The largest word is: ', word_max)\n",
    "        break\n",
    "    else:\n",
    "        word = sentence[space_position_prev : space_position_current]\n",
    "        print(word)\n",
    "        space_position_prev = space_position_current + 1\n",
    "        if len(word) > len(word_max):\n",
    "            word_max = word"
   ]
  }
 ],
 "metadata": {
  "kernelspec": {
   "display_name": "Python 3.10.5 64-bit",
   "language": "python",
   "name": "python3"
  },
  "language_info": {
   "codemirror_mode": {
    "name": "ipython",
    "version": 3
   },
   "file_extension": ".py",
   "mimetype": "text/x-python",
   "name": "python",
   "nbconvert_exporter": "python",
   "pygments_lexer": "ipython3",
   "version": "3.10.5"
  },
  "orig_nbformat": 4,
  "vscode": {
   "interpreter": {
    "hash": "ccfea65839ea7b4cb7611917847ae955f8a5d3f7496a05c88f3bf628abe673bf"
   }
  }
 },
 "nbformat": 4,
 "nbformat_minor": 2
}
