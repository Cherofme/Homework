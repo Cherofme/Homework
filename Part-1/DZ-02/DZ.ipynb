{
 "cells": [
  {
   "cell_type": "code",
   "execution_count": 2,
   "metadata": {},
   "outputs": [
    {
     "name": "stdout",
     "output_type": "stream",
     "text": [
      "Dsdas  набрав 99 балів і отримав оцінку відміно \n"
     ]
    }
   ],
   "source": [
    "Last_name = input('Ведіть своє призвище')\n",
    "Mark = int(input('exam score'))\n",
    "if Mark < 60 :\n",
    "    оцінка = 'незадовільно'\n",
    "elif 60 <= Mark <= 74:\n",
    "    оцінка = 'задовільно'\n",
    "elif 75 <= Mark <= 94:\n",
    "    оцінка = 'добре'\n",
    "elif 95 <= Mark <=100:\n",
    "    оцінка = 'відміно'\n",
    "else:\n",
    "    print('введіть коректне  число')\n",
    "print(f'{Last_name}  набрав {Mark} балів і отримав оцінку {оцінка} ')"
   ]
  },
  {
   "cell_type": "code",
   "execution_count": 1,
   "metadata": {},
   "outputs": [
    {
     "name": "stdout",
     "output_type": "stream",
     "text": [
      "Дніпропетровська область\n"
     ]
    }
   ],
   "source": [
    "Oбласть = input('Перші дві літери номеру транспортного засобу')\n",
    "match Oбласть:\n",
    "    case 'AA':\n",
    "        print('місто Київ')\n",
    "    case 'KA':\n",
    "        print('місто Київ')\n",
    "    case 'AB':\n",
    "        print('Вінницька область')\n",
    "    case 'AE':\n",
    "        print('Дніпропетровська область')\n",
    "    case 'AH':\n",
    "        print('Донецька область')\n",
    "    case _:\n",
    "        print(\"інша область \")"
   ]
  }
 ],
 "metadata": {
  "interpreter": {
   "hash": "e666bcf0fd828d34f4c921b268823d9c11f3ee24b9ee0c9a17dcf18711812e8d"
  },
  "kernelspec": {
   "display_name": "Python 3.10.4 64-bit",
   "language": "python",
   "name": "python3"
  },
  "language_info": {
   "codemirror_mode": {
    "name": "ipython",
    "version": 3
   },
   "file_extension": ".py",
   "mimetype": "text/x-python",
   "name": "python",
   "nbconvert_exporter": "python",
   "pygments_lexer": "ipython3",
   "version": "3.10.4"
  },
  "orig_nbformat": 4
 },
 "nbformat": 4,
 "nbformat_minor": 2
}
