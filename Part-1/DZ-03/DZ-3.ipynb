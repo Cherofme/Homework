{
 "cells": [
  {
   "cell_type": "code",
   "execution_count": 10,
   "metadata": {},
   "outputs": [
    {
     "name": "stdout",
     "output_type": "stream",
     "text": [
      "suma = 2\n",
      "suma = 5\n",
      "suma = 10\n",
      "suma = 17\n"
     ]
    }
   ],
   "source": [
    "operand_1 = int(input())\n",
    "operand_2 = int(input())\n",
    "for x in range(operand_1,operand_2):\n",
    "    square = x*x\n",
    "    suma = square + square\n",
    "    print('suma =', suma)"
   ]
  },
  {
   "cell_type": "code",
   "execution_count": 15,
   "metadata": {},
   "outputs": [
    {
     "name": "stdout",
     "output_type": "stream",
     "text": [
      "16\n"
     ]
    }
   ],
   "source": [
    "a = int (input())\n",
    "b = int (input ())\n",
    "\n",
    "a += 1\n",
    "for x in range(a, b):\n",
    "    summa = 0\n",
    "summa = x*x\n",
    "\n",
    "print (summa)"
   ]
  },
  {
   "cell_type": "code",
   "execution_count": 16,
   "metadata": {},
   "outputs": [
    {
     "name": "stdout",
     "output_type": "stream",
     "text": [
      "1\n"
     ]
    }
   ],
   "source": [
    "a = input('write a word')\n",
    "b = input('write a symbol')\n",
    "count = 0\n",
    "for char in a:\n",
    "    if char == b:\n",
    "        count += 1\n",
    "print(count)"
   ]
  },
  {
   "cell_type": "code",
   "execution_count": null,
   "metadata": {},
   "outputs": [],
   "source": [
    "cities = ['kyiv', 'Donetsk', 'Lviv', 'Paris']\n",
    "city = input('В яке місто ви бажаєте ?')\n",
    "for city_visited in cities:\n",
    "    if city_visited == city:\n",
    "        print('Ви вже були тут')\n",
    "        break\n",
    "else:\n",
    "    print('будете вперше')"
   ]
  }
 ],
 "metadata": {
  "interpreter": {
   "hash": "e666bcf0fd828d34f4c921b268823d9c11f3ee24b9ee0c9a17dcf18711812e8d"
  },
  "kernelspec": {
   "display_name": "Python 3.10.4 64-bit",
   "language": "python",
   "name": "python3"
  },
  "language_info": {
   "codemirror_mode": {
    "name": "ipython",
    "version": 3
   },
   "file_extension": ".py",
   "mimetype": "text/x-python",
   "name": "python",
   "nbconvert_exporter": "python",
   "pygments_lexer": "ipython3",
   "version": "3.10.4"
  },
  "orig_nbformat": 4
 },
 "nbformat": 4,
 "nbformat_minor": 2
}
